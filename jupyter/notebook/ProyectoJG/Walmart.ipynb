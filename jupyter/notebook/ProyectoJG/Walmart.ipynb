{
 "cells": [
  {
   "cell_type": "markdown",
   "metadata": {},
   "source": [
    "# Análisis de ventas de tiendas Walmart"
   ]
  },
  {
   "cell_type": "code",
   "execution_count": 1,
   "metadata": {},
   "outputs": [],
   "source": [
    "import findspark\n",
    "findspark.init()"
   ]
  },
  {
   "cell_type": "code",
   "execution_count": 2,
   "metadata": {},
   "outputs": [],
   "source": [
    "from pyspark.sql import SparkSession\n",
    "spark = (\n",
    "    SparkSession.builder\n",
    "    .appName(\"pyspark-walmart\")\n",
    "    .config(\"spark.driver.memory\", \"512m\")\n",
    "    .config(\"spark.driver.cores\", \"1\")\n",
    "    .config(\"spark.executor.memory\", \"512m\")\n",
    "    .config(\"spark.executor.cores\", \"1\")\n",
    "    .config(\"spark.sql.shuffle.partitions\", \"2\")\n",
    "    .getOrCreate()\n",
    ")"
   ]
  },
  {
   "cell_type": "code",
   "execution_count": 3,
   "metadata": {},
   "outputs": [
    {
     "data": {
      "text/plain": [
       "'2.4.5'"
      ]
     },
     "execution_count": 3,
     "metadata": {},
     "output_type": "execute_result"
    }
   ],
   "source": [
    "spark.version"
   ]
  },
  {
   "cell_type": "code",
   "execution_count": 6,
   "metadata": {},
   "outputs": [],
   "source": [
    "#Carga de dataset\n",
    "\n",
    "dff = spark.read.csv('/dataset/Walmart.csv', header=True)"
   ]
  },
  {
   "cell_type": "code",
   "execution_count": 7,
   "metadata": {},
   "outputs": [
    {
     "name": "stdout",
     "output_type": "stream",
     "text": [
      "+-----+----------+------------+------------+-----------+----------+-----------+------------+\n",
      "|Store|      Date|Weekly_Sales|Holiday_Flag|Temperature|Fuel_Price|        CPI|Unemployment|\n",
      "+-----+----------+------------+------------+-----------+----------+-----------+------------+\n",
      "|    1|05-02-2010|   1643690.9|           0|      42.31|     2.572|211.0963582|       8.106|\n",
      "|    1|12-02-2010|  1641957.44|           1|      38.51|     2.548|211.2421698|       8.106|\n",
      "|    1|19-02-2010|  1611968.17|           0|      39.93|     2.514|211.2891429|       8.106|\n",
      "|    1|26-02-2010|  1409727.59|           0|      46.63|     2.561|211.3196429|       8.106|\n",
      "|    1|05-03-2010|  1554806.68|           0|       46.5|     2.625|211.3501429|       8.106|\n",
      "|    1|12-03-2010|  1439541.59|           0|      57.79|     2.667|211.3806429|       8.106|\n",
      "|    1|19-03-2010|  1472515.79|           0|      54.58|      2.72| 211.215635|       8.106|\n",
      "|    1|26-03-2010|  1404429.92|           0|      51.45|     2.732|211.0180424|       8.106|\n",
      "|    1|02-04-2010|  1594968.28|           0|      62.27|     2.719|210.8204499|       7.808|\n",
      "|    1|09-04-2010|  1545418.53|           0|      65.86|      2.77|210.6228574|       7.808|\n",
      "+-----+----------+------------+------------+-----------+----------+-----------+------------+\n",
      "only showing top 10 rows\n",
      "\n"
     ]
    }
   ],
   "source": [
    "dff.show(10)"
   ]
  },
  {
   "cell_type": "code",
   "execution_count": 8,
   "metadata": {},
   "outputs": [
    {
     "name": "stdout",
     "output_type": "stream",
     "text": [
      "root\n",
      " |-- Store: string (nullable = true)\n",
      " |-- Date: string (nullable = true)\n",
      " |-- Weekly_Sales: string (nullable = true)\n",
      " |-- Holiday_Flag: string (nullable = true)\n",
      " |-- Temperature: string (nullable = true)\n",
      " |-- Fuel_Price: string (nullable = true)\n",
      " |-- CPI: string (nullable = true)\n",
      " |-- Unemployment: string (nullable = true)\n",
      "\n"
     ]
    }
   ],
   "source": [
    "#Conocer el esquema de cada columna de dataset\n",
    "\n",
    "dff.printSchema()"
   ]
  },
  {
   "cell_type": "code",
   "execution_count": 9,
   "metadata": {},
   "outputs": [
    {
     "name": "stdout",
     "output_type": "stream",
     "text": [
      "+----------+\n",
      "|      Date|\n",
      "+----------+\n",
      "|05-02-2010|\n",
      "|12-02-2010|\n",
      "|19-02-2010|\n",
      "|26-02-2010|\n",
      "|05-03-2010|\n",
      "|12-03-2010|\n",
      "|19-03-2010|\n",
      "|26-03-2010|\n",
      "|02-04-2010|\n",
      "|09-04-2010|\n",
      "|16-04-2010|\n",
      "|23-04-2010|\n",
      "|30-04-2010|\n",
      "|07-05-2010|\n",
      "|14-05-2010|\n",
      "|21-05-2010|\n",
      "|28-05-2010|\n",
      "|04-06-2010|\n",
      "|11-06-2010|\n",
      "|18-06-2010|\n",
      "+----------+\n",
      "only showing top 20 rows\n",
      "\n"
     ]
    }
   ],
   "source": [
    "#Visualización del formato de la fecha\n",
    "\n",
    "dff.select(\"Date\").show()"
   ]
  },
  {
   "cell_type": "code",
   "execution_count": 10,
   "metadata": {},
   "outputs": [],
   "source": [
    "#Transformación de datos\n",
    "\n",
    "from pyspark.sql.functions import to_date,col\n",
    "\n",
    "dff = dff.withColumn(\"Date\",to_date(\"Date\",\"dd-MM-yyyy\"))\n",
    "\n",
    "from pyspark.sql.types import IntegerType, DoubleType, FloatType\n",
    "\n",
    "dff = dff.withColumn('Store', dff['Store'].cast(IntegerType()))\n",
    "dff = dff.withColumn('Weekly_Sales', dff['Weekly_Sales'].cast(IntegerType()))\n",
    "dff = dff.withColumn('Holiday_Flag', dff['Holiday_Flag'].cast(DoubleType()))\n",
    "dff = dff.withColumn('Temperature', dff['Temperature'].cast(DoubleType()))\n",
    "dff = dff.withColumn('Fuel_Price', dff['Fuel_Price'].cast(DoubleType()))\n",
    "dff = dff.withColumn('CPI', dff['CPI'].cast(DoubleType()))\n",
    "dff = dff.withColumn('Unemployment', dff['Unemployment'].cast(DoubleType()))"
   ]
  },
  {
   "cell_type": "code",
   "execution_count": 11,
   "metadata": {},
   "outputs": [
    {
     "name": "stdout",
     "output_type": "stream",
     "text": [
      "root\n",
      " |-- Store: integer (nullable = true)\n",
      " |-- Date: date (nullable = true)\n",
      " |-- Weekly_Sales: integer (nullable = true)\n",
      " |-- Holiday_Flag: double (nullable = true)\n",
      " |-- Temperature: double (nullable = true)\n",
      " |-- Fuel_Price: double (nullable = true)\n",
      " |-- CPI: double (nullable = true)\n",
      " |-- Unemployment: double (nullable = true)\n",
      "\n"
     ]
    }
   ],
   "source": [
    "#Esquema corregido\n",
    "\n",
    "dff.printSchema()"
   ]
  },
  {
   "cell_type": "code",
   "execution_count": 12,
   "metadata": {},
   "outputs": [
    {
     "name": "stdout",
     "output_type": "stream",
     "text": [
      "+-----+----------+------------+------------+-----------+----------+-----------+------------+\n",
      "|Store|      Date|Weekly_Sales|Holiday_Flag|Temperature|Fuel_Price|        CPI|Unemployment|\n",
      "+-----+----------+------------+------------+-----------+----------+-----------+------------+\n",
      "|    1|2010-02-05|     1643690|         0.0|      42.31|     2.572|211.0963582|       8.106|\n",
      "|    1|2010-02-12|     1641957|         1.0|      38.51|     2.548|211.2421698|       8.106|\n",
      "|    1|2010-02-19|     1611968|         0.0|      39.93|     2.514|211.2891429|       8.106|\n",
      "|    1|2010-02-26|     1409727|         0.0|      46.63|     2.561|211.3196429|       8.106|\n",
      "|    1|2010-03-05|     1554806|         0.0|       46.5|     2.625|211.3501429|       8.106|\n",
      "|    1|2010-03-12|     1439541|         0.0|      57.79|     2.667|211.3806429|       8.106|\n",
      "|    1|2010-03-19|     1472515|         0.0|      54.58|      2.72| 211.215635|       8.106|\n",
      "|    1|2010-03-26|     1404429|         0.0|      51.45|     2.732|211.0180424|       8.106|\n",
      "|    1|2010-04-02|     1594968|         0.0|      62.27|     2.719|210.8204499|       7.808|\n",
      "|    1|2010-04-09|     1545418|         0.0|      65.86|      2.77|210.6228574|       7.808|\n",
      "+-----+----------+------------+------------+-----------+----------+-----------+------------+\n",
      "only showing top 10 rows\n",
      "\n"
     ]
    }
   ],
   "source": [
    "dff.show(10)"
   ]
  },
  {
   "cell_type": "code",
   "execution_count": 13,
   "metadata": {},
   "outputs": [
    {
     "data": {
      "text/plain": [
       "6435"
      ]
     },
     "execution_count": 13,
     "metadata": {},
     "output_type": "execute_result"
    }
   ],
   "source": [
    "dff.count()"
   ]
  },
  {
   "cell_type": "code",
   "execution_count": 14,
   "metadata": {},
   "outputs": [
    {
     "data": {
      "text/plain": [
       "8"
      ]
     },
     "execution_count": 14,
     "metadata": {},
     "output_type": "execute_result"
    }
   ],
   "source": [
    "len(dff.columns)"
   ]
  },
  {
   "cell_type": "code",
   "execution_count": 15,
   "metadata": {},
   "outputs": [
    {
     "name": "stdout",
     "output_type": "stream",
     "text": [
      "+-------+------------------+-----------------+-------------------+------------------+-------------------+-----------------+------------------+\n",
      "|summary|             Store|     Weekly_Sales|       Holiday_Flag|       Temperature|         Fuel_Price|              CPI|      Unemployment|\n",
      "+-------+------------------+-----------------+-------------------+------------------+-------------------+-----------------+------------------+\n",
      "|  count|              6435|             6435|               6435|              6435|               6435|             6435|              6435|\n",
      "|   mean|              23.0|1046964.386013986|0.06993006993006994| 60.66378243978229|  3.358606837606832|171.5783938487799| 7.999151048951067|\n",
      "| stddev|12.988182381175454|564366.6212906983| 0.2550489443698279|18.444932875811585|0.45901970719285223|39.35671229566419|1.8758847818627944|\n",
      "|    min|                 1|           209986|                0.0|             -2.06|              2.472|          126.064|             3.879|\n",
      "|    25%|                12|           552985|                0.0|             47.43|              2.933|          131.735|             6.891|\n",
      "|    50%|                23|           960746|                0.0|             62.67|              3.445|      182.6165205|             7.874|\n",
      "|    75%|                34|          1420405|                0.0|             74.95|              3.735|       212.746898|             8.622|\n",
      "|    max|                45|          3818686|                1.0|            100.14|              4.468|      227.2328068|            14.313|\n",
      "+-------+------------------+-----------------+-------------------+------------------+-------------------+-----------------+------------------+\n",
      "\n"
     ]
    }
   ],
   "source": [
    "dff.summary().show()"
   ]
  },
  {
   "cell_type": "code",
   "execution_count": 16,
   "metadata": {},
   "outputs": [
    {
     "name": "stdout",
     "output_type": "stream",
     "text": [
      "+------------+-----+\n",
      "|Holiday_Flag|count|\n",
      "+------------+-----+\n",
      "|         1.0|  450|\n",
      "|         0.0| 5985|\n",
      "+------------+-----+\n",
      "\n"
     ]
    }
   ],
   "source": [
    "#Cantidad de semanas con días festivos\n",
    "\n",
    "dff.groupBy(\"Holiday_Flag\").count().show()"
   ]
  },
  {
   "cell_type": "code",
   "execution_count": 17,
   "metadata": {},
   "outputs": [
    {
     "name": "stdout",
     "output_type": "stream",
     "text": [
      "+-----------------+\n",
      "|sum(Weekly_Sales)|\n",
      "+-----------------+\n",
      "|       6737215824|\n",
      "+-----------------+\n",
      "\n"
     ]
    }
   ],
   "source": [
    "#Cantidad total de ventas\n",
    "\n",
    "dff.groupBy().sum(\"Weekly_Sales\").show()"
   ]
  },
  {
   "cell_type": "code",
   "execution_count": 18,
   "metadata": {},
   "outputs": [
    {
     "name": "stdout",
     "output_type": "stream",
     "text": [
      "+-----+-----------------+\n",
      "|Store|sum(Weekly_Sales)|\n",
      "+-----+-----------------+\n",
      "|    1|        222402734|\n",
      "|    2|        275382373|\n",
      "|    3|         57586666|\n",
      "|    4|        299543881|\n",
      "|    5|         45475617|\n",
      "|    6|        223756059|\n",
      "|    7|         81598205|\n",
      "|    8|        129951115|\n",
      "|    9|         77789152|\n",
      "|   10|        271617645|\n",
      "|   11|        193962721|\n",
      "|   12|        144287160|\n",
      "|   13|        286517633|\n",
      "|   14|        288999841|\n",
      "|   15|         89133609|\n",
      "|   16|         74252354|\n",
      "|   17|        127782072|\n",
      "|   18|        155114667|\n",
      "|   19|        206634794|\n",
      "|   20|        301397719|\n",
      "+-----+-----------------+\n",
      "only showing top 20 rows\n",
      "\n"
     ]
    }
   ],
   "source": [
    "#Ventas totales por tienda\n",
    "\n",
    "dff.groupBy('Store').sum('Weekly_Sales').orderBy('Store').show(20)"
   ]
  },
  {
   "cell_type": "code",
   "execution_count": 19,
   "metadata": {},
   "outputs": [
    {
     "name": "stdout",
     "output_type": "stream",
     "text": [
      "+-----+-----------------+\n",
      "|Store|sum(Weekly_Sales)|\n",
      "+-----+-----------------+\n",
      "|   33|         37160150|\n",
      "|   44|         43293023|\n",
      "|    5|         45475617|\n",
      "|   36|         53412139|\n",
      "|   38|         55159554|\n",
      "|    3|         57586666|\n",
      "|   30|         62716810|\n",
      "|   37|         74202669|\n",
      "|   16|         74252354|\n",
      "|   29|         77141487|\n",
      "|    9|         77789152|\n",
      "|   42|         79565685|\n",
      "|    7|         81598205|\n",
      "|   15|         89133609|\n",
      "|   43|         90565366|\n",
      "|   25|        101061103|\n",
      "|   21|        108117810|\n",
      "|   45|        112395273|\n",
      "|   17|        127782072|\n",
      "|    8|        129951115|\n",
      "+-----+-----------------+\n",
      "only showing top 20 rows\n",
      "\n"
     ]
    }
   ],
   "source": [
    "#Ventas totales por tienda ordenadas de menor a mayor venta\n",
    "\n",
    "dff.groupBy('Store').agg({\"Weekly_Sales\": \"avg\", \"Weekly_Sales\": \"sum\"}).sort('sum(Weekly_Sales)').show()"
   ]
  },
  {
   "cell_type": "code",
   "execution_count": 20,
   "metadata": {},
   "outputs": [
    {
     "name": "stdout",
     "output_type": "stream",
     "text": [
      "+-----+-----------------+\n",
      "|Store|sum(Weekly_Sales)|\n",
      "+-----+-----------------+\n",
      "|20   |301397719        |\n",
      "|4    |299543881        |\n",
      "|14   |288999841        |\n",
      "|13   |286517633        |\n",
      "|2    |275382373        |\n",
      "|10   |271617645        |\n",
      "|27   |253855845        |\n",
      "|6    |223756059        |\n",
      "|1    |222402734        |\n",
      "|39   |207445467        |\n",
      "|19   |206634794        |\n",
      "|31   |199613839        |\n",
      "|23   |198750546        |\n",
      "|24   |194015953        |\n",
      "|11   |193962721        |\n",
      "|28   |189263612        |\n",
      "|41   |181341863        |\n",
      "|32   |166819177        |\n",
      "|18   |155114667        |\n",
      "|22   |147075580        |\n",
      "+-----+-----------------+\n",
      "only showing top 20 rows\n",
      "\n"
     ]
    },
    {
     "data": {
      "text/plain": [
       "pyspark.sql.dataframe.DataFrame"
      ]
     },
     "execution_count": 20,
     "metadata": {},
     "output_type": "execute_result"
    }
   ],
   "source": [
    "#Ventas totales por tienda ordenadas de mayor a menor venta\n",
    "\n",
    "stores = dff.groupby('Store').sum('Weekly_Sales').orderBy('Store')\n",
    "stores.orderBy(stores['sum(Weekly_Sales)'].desc()).show(truncate=False)\n",
    "type(stores)"
   ]
  },
  {
   "cell_type": "code",
   "execution_count": 21,
   "metadata": {},
   "outputs": [
    {
     "name": "stdout",
     "output_type": "stream",
     "text": [
      "+-----+-----------------+\n",
      "|Store|sum(Weekly_Sales)|\n",
      "+-----+-----------------+\n",
      "|    1|        222402734|\n",
      "|    2|        275382373|\n",
      "|    3|         57586666|\n",
      "|    4|        299543881|\n",
      "|    5|         45475617|\n",
      "|    6|        223756059|\n",
      "|    7|         81598205|\n",
      "|    8|        129951115|\n",
      "|    9|         77789152|\n",
      "|   10|        271617645|\n",
      "|   11|        193962721|\n",
      "|   12|        144287160|\n",
      "|   13|        286517633|\n",
      "|   14|        288999841|\n",
      "|   15|         89133609|\n",
      "|   16|         74252354|\n",
      "|   17|        127782072|\n",
      "|   18|        155114667|\n",
      "|   19|        206634794|\n",
      "|   20|        301397719|\n",
      "+-----+-----------------+\n",
      "only showing top 20 rows\n",
      "\n"
     ]
    }
   ],
   "source": [
    "stores.show()"
   ]
  },
  {
   "cell_type": "code",
   "execution_count": 24,
   "metadata": {},
   "outputs": [
    {
     "data": {
      "text/html": [
       "<div>\n",
       "<style scoped>\n",
       "    .dataframe tbody tr th:only-of-type {\n",
       "        vertical-align: middle;\n",
       "    }\n",
       "\n",
       "    .dataframe tbody tr th {\n",
       "        vertical-align: top;\n",
       "    }\n",
       "\n",
       "    .dataframe thead th {\n",
       "        text-align: right;\n",
       "    }\n",
       "</style>\n",
       "<table border=\"1\" class=\"dataframe\">\n",
       "  <thead>\n",
       "    <tr style=\"text-align: right;\">\n",
       "      <th></th>\n",
       "      <th>Store</th>\n",
       "      <th>sum(Weekly_Sales)</th>\n",
       "    </tr>\n",
       "  </thead>\n",
       "  <tbody>\n",
       "    <tr>\n",
       "      <th>0</th>\n",
       "      <td>1</td>\n",
       "      <td>222402734</td>\n",
       "    </tr>\n",
       "    <tr>\n",
       "      <th>1</th>\n",
       "      <td>2</td>\n",
       "      <td>275382373</td>\n",
       "    </tr>\n",
       "    <tr>\n",
       "      <th>2</th>\n",
       "      <td>3</td>\n",
       "      <td>57586666</td>\n",
       "    </tr>\n",
       "    <tr>\n",
       "      <th>3</th>\n",
       "      <td>4</td>\n",
       "      <td>299543881</td>\n",
       "    </tr>\n",
       "    <tr>\n",
       "      <th>4</th>\n",
       "      <td>5</td>\n",
       "      <td>45475617</td>\n",
       "    </tr>\n",
       "    <tr>\n",
       "      <th>5</th>\n",
       "      <td>6</td>\n",
       "      <td>223756059</td>\n",
       "    </tr>\n",
       "    <tr>\n",
       "      <th>6</th>\n",
       "      <td>7</td>\n",
       "      <td>81598205</td>\n",
       "    </tr>\n",
       "    <tr>\n",
       "      <th>7</th>\n",
       "      <td>8</td>\n",
       "      <td>129951115</td>\n",
       "    </tr>\n",
       "    <tr>\n",
       "      <th>8</th>\n",
       "      <td>9</td>\n",
       "      <td>77789152</td>\n",
       "    </tr>\n",
       "    <tr>\n",
       "      <th>9</th>\n",
       "      <td>10</td>\n",
       "      <td>271617645</td>\n",
       "    </tr>\n",
       "    <tr>\n",
       "      <th>10</th>\n",
       "      <td>11</td>\n",
       "      <td>193962721</td>\n",
       "    </tr>\n",
       "    <tr>\n",
       "      <th>11</th>\n",
       "      <td>12</td>\n",
       "      <td>144287160</td>\n",
       "    </tr>\n",
       "    <tr>\n",
       "      <th>12</th>\n",
       "      <td>13</td>\n",
       "      <td>286517633</td>\n",
       "    </tr>\n",
       "    <tr>\n",
       "      <th>13</th>\n",
       "      <td>14</td>\n",
       "      <td>288999841</td>\n",
       "    </tr>\n",
       "    <tr>\n",
       "      <th>14</th>\n",
       "      <td>15</td>\n",
       "      <td>89133609</td>\n",
       "    </tr>\n",
       "    <tr>\n",
       "      <th>15</th>\n",
       "      <td>16</td>\n",
       "      <td>74252354</td>\n",
       "    </tr>\n",
       "    <tr>\n",
       "      <th>16</th>\n",
       "      <td>17</td>\n",
       "      <td>127782072</td>\n",
       "    </tr>\n",
       "    <tr>\n",
       "      <th>17</th>\n",
       "      <td>18</td>\n",
       "      <td>155114667</td>\n",
       "    </tr>\n",
       "    <tr>\n",
       "      <th>18</th>\n",
       "      <td>19</td>\n",
       "      <td>206634794</td>\n",
       "    </tr>\n",
       "    <tr>\n",
       "      <th>19</th>\n",
       "      <td>20</td>\n",
       "      <td>301397719</td>\n",
       "    </tr>\n",
       "    <tr>\n",
       "      <th>20</th>\n",
       "      <td>21</td>\n",
       "      <td>108117810</td>\n",
       "    </tr>\n",
       "    <tr>\n",
       "      <th>21</th>\n",
       "      <td>22</td>\n",
       "      <td>147075580</td>\n",
       "    </tr>\n",
       "    <tr>\n",
       "      <th>22</th>\n",
       "      <td>23</td>\n",
       "      <td>198750546</td>\n",
       "    </tr>\n",
       "    <tr>\n",
       "      <th>23</th>\n",
       "      <td>24</td>\n",
       "      <td>194015953</td>\n",
       "    </tr>\n",
       "    <tr>\n",
       "      <th>24</th>\n",
       "      <td>25</td>\n",
       "      <td>101061103</td>\n",
       "    </tr>\n",
       "    <tr>\n",
       "      <th>25</th>\n",
       "      <td>26</td>\n",
       "      <td>143416327</td>\n",
       "    </tr>\n",
       "    <tr>\n",
       "      <th>26</th>\n",
       "      <td>27</td>\n",
       "      <td>253855845</td>\n",
       "    </tr>\n",
       "    <tr>\n",
       "      <th>27</th>\n",
       "      <td>28</td>\n",
       "      <td>189263612</td>\n",
       "    </tr>\n",
       "    <tr>\n",
       "      <th>28</th>\n",
       "      <td>29</td>\n",
       "      <td>77141487</td>\n",
       "    </tr>\n",
       "    <tr>\n",
       "      <th>29</th>\n",
       "      <td>30</td>\n",
       "      <td>62716810</td>\n",
       "    </tr>\n",
       "    <tr>\n",
       "      <th>30</th>\n",
       "      <td>31</td>\n",
       "      <td>199613839</td>\n",
       "    </tr>\n",
       "    <tr>\n",
       "      <th>31</th>\n",
       "      <td>32</td>\n",
       "      <td>166819177</td>\n",
       "    </tr>\n",
       "    <tr>\n",
       "      <th>32</th>\n",
       "      <td>33</td>\n",
       "      <td>37160150</td>\n",
       "    </tr>\n",
       "    <tr>\n",
       "      <th>33</th>\n",
       "      <td>34</td>\n",
       "      <td>138249688</td>\n",
       "    </tr>\n",
       "    <tr>\n",
       "      <th>34</th>\n",
       "      <td>35</td>\n",
       "      <td>131520601</td>\n",
       "    </tr>\n",
       "    <tr>\n",
       "      <th>35</th>\n",
       "      <td>36</td>\n",
       "      <td>53412139</td>\n",
       "    </tr>\n",
       "    <tr>\n",
       "      <th>36</th>\n",
       "      <td>37</td>\n",
       "      <td>74202669</td>\n",
       "    </tr>\n",
       "    <tr>\n",
       "      <th>37</th>\n",
       "      <td>38</td>\n",
       "      <td>55159554</td>\n",
       "    </tr>\n",
       "    <tr>\n",
       "      <th>38</th>\n",
       "      <td>39</td>\n",
       "      <td>207445467</td>\n",
       "    </tr>\n",
       "    <tr>\n",
       "      <th>39</th>\n",
       "      <td>40</td>\n",
       "      <td>137870240</td>\n",
       "    </tr>\n",
       "    <tr>\n",
       "      <th>40</th>\n",
       "      <td>41</td>\n",
       "      <td>181341863</td>\n",
       "    </tr>\n",
       "    <tr>\n",
       "      <th>41</th>\n",
       "      <td>42</td>\n",
       "      <td>79565685</td>\n",
       "    </tr>\n",
       "    <tr>\n",
       "      <th>42</th>\n",
       "      <td>43</td>\n",
       "      <td>90565366</td>\n",
       "    </tr>\n",
       "    <tr>\n",
       "      <th>43</th>\n",
       "      <td>44</td>\n",
       "      <td>43293023</td>\n",
       "    </tr>\n",
       "    <tr>\n",
       "      <th>44</th>\n",
       "      <td>45</td>\n",
       "      <td>112395273</td>\n",
       "    </tr>\n",
       "  </tbody>\n",
       "</table>\n",
       "</div>"
      ],
      "text/plain": [
       "    Store  sum(Weekly_Sales)\n",
       "0       1          222402734\n",
       "1       2          275382373\n",
       "2       3           57586666\n",
       "3       4          299543881\n",
       "4       5           45475617\n",
       "5       6          223756059\n",
       "6       7           81598205\n",
       "7       8          129951115\n",
       "8       9           77789152\n",
       "9      10          271617645\n",
       "10     11          193962721\n",
       "11     12          144287160\n",
       "12     13          286517633\n",
       "13     14          288999841\n",
       "14     15           89133609\n",
       "15     16           74252354\n",
       "16     17          127782072\n",
       "17     18          155114667\n",
       "18     19          206634794\n",
       "19     20          301397719\n",
       "20     21          108117810\n",
       "21     22          147075580\n",
       "22     23          198750546\n",
       "23     24          194015953\n",
       "24     25          101061103\n",
       "25     26          143416327\n",
       "26     27          253855845\n",
       "27     28          189263612\n",
       "28     29           77141487\n",
       "29     30           62716810\n",
       "30     31          199613839\n",
       "31     32          166819177\n",
       "32     33           37160150\n",
       "33     34          138249688\n",
       "34     35          131520601\n",
       "35     36           53412139\n",
       "36     37           74202669\n",
       "37     38           55159554\n",
       "38     39          207445467\n",
       "39     40          137870240\n",
       "40     41          181341863\n",
       "41     42           79565685\n",
       "42     43           90565366\n",
       "43     44           43293023\n",
       "44     45          112395273"
      ]
     },
     "execution_count": 24,
     "metadata": {},
     "output_type": "execute_result"
    }
   ],
   "source": [
    "Stores_pd = stores.toPandas()\n",
    "Stores_pd"
   ]
  },
  {
   "cell_type": "code",
   "execution_count": 25,
   "metadata": {},
   "outputs": [
    {
     "data": {
      "text/plain": [
       "pandas.core.frame.DataFrame"
      ]
     },
     "execution_count": 25,
     "metadata": {},
     "output_type": "execute_result"
    }
   ],
   "source": [
    "type(Stores_pd)"
   ]
  },
  {
   "cell_type": "code",
   "execution_count": 26,
   "metadata": {},
   "outputs": [
    {
     "data": {
      "text/plain": [
       "<matplotlib.axes._subplots.AxesSubplot at 0x7f17e05825f8>"
      ]
     },
     "execution_count": 26,
     "metadata": {},
     "output_type": "execute_result"
    },
    {
     "data": {
      "image/png": "[encoded data removed]",
      "text/plain": [
       "<Figure size 1440x432 with 1 Axes>"
      ]
     },
     "metadata": {
      "needs_background": "light"
     },
     "output_type": "display_data"
    }
   ],
   "source": [
    "#Gráfico de barras de ventas totales para cada tienda\n",
    "\n",
    "import matplotlib.pyplot as plt\n",
    "%matplotlib inline\n",
    "\n",
    "Stores_pd.plot.bar(x='Store', y='sum(Weekly_Sales)', figsize=(20,6))"
   ]
  },
  {
   "cell_type": "code",
   "execution_count": 27,
   "metadata": {},
   "outputs": [
    {
     "name": "stdout",
     "output_type": "stream",
     "text": [
      "+----------+-----------------+\n",
      "|      Date|sum(Weekly_Sales)|\n",
      "+----------+-----------------+\n",
      "|2010-02-05|         49750719|\n",
      "|2010-02-12|         48336654|\n",
      "|2010-02-19|         48276973|\n",
      "|2010-02-26|         43968550|\n",
      "|2010-03-05|         46871448|\n",
      "|2010-03-12|         45925374|\n",
      "|2010-03-19|         44988954|\n",
      "|2010-03-26|         44133937|\n",
      "|2010-04-02|         50423809|\n",
      "|2010-04-09|         47365270|\n",
      "+----------+-----------------+\n",
      "only showing top 10 rows\n",
      "\n"
     ]
    }
   ],
   "source": [
    "#Ventas totales por semana\n",
    "\n",
    "dff.groupby('Date').sum('Weekly_Sales').orderBy('Date').show(10)"
   ]
  },
  {
   "cell_type": "code",
   "execution_count": 28,
   "metadata": {},
   "outputs": [],
   "source": [
    "semana = dff.groupBy('Date').sum('Weekly_Sales').orderBy('Date')"
   ]
  },
  {
   "cell_type": "code",
   "execution_count": 29,
   "metadata": {},
   "outputs": [],
   "source": [
    "semana_pd = semana.toPandas()"
   ]
  },
  {
   "cell_type": "code",
   "execution_count": 30,
   "metadata": {},
   "outputs": [
    {
     "data": {
      "text/plain": [
       "<matplotlib.axes._subplots.AxesSubplot at 0x7f17e03f69e8>"
      ]
     },
     "execution_count": 30,
     "metadata": {},
     "output_type": "execute_result"
    },
    {
     "data": {
      "image/png": "[encoded data removed]",
      "text/plain": [
       "<Figure size 1440x432 with 1 Axes>"
      ]
     },
     "metadata": {
      "needs_background": "light"
     },
     "output_type": "display_data"
    }
   ],
   "source": [
    "#Gráfico de barras de ventas totales por semana\n",
    "\n",
    "import matplotlib.pyplot as plt\n",
    "%matplotlib inline\n",
    "\n",
    "semana_pd.plot.bar(x='Date', y='sum(Weekly_Sales)', figsize=(20,6))"
   ]
  },
  {
   "cell_type": "code",
   "execution_count": 31,
   "metadata": {},
   "outputs": [
    {
     "name": "stdout",
     "output_type": "stream",
     "text": [
      "+-----+----------+------------+------------+-----------+----------+-----------+------------+----+-----+\n",
      "|Store|      Date|Weekly_Sales|Holiday_Flag|Temperature|Fuel_Price|        CPI|Unemployment|Year|Month|\n",
      "+-----+----------+------------+------------+-----------+----------+-----------+------------+----+-----+\n",
      "|    1|2010-02-05|     1643690|         0.0|      42.31|     2.572|211.0963582|       8.106|2010|   02|\n",
      "|    1|2010-02-12|     1641957|         1.0|      38.51|     2.548|211.2421698|       8.106|2010|   02|\n",
      "|    1|2010-02-19|     1611968|         0.0|      39.93|     2.514|211.2891429|       8.106|2010|   02|\n",
      "|    1|2010-02-26|     1409727|         0.0|      46.63|     2.561|211.3196429|       8.106|2010|   02|\n",
      "|    1|2010-03-05|     1554806|         0.0|       46.5|     2.625|211.3501429|       8.106|2010|   03|\n",
      "+-----+----------+------------+------------+-----------+----------+-----------+------------+----+-----+\n",
      "only showing top 5 rows\n",
      "\n"
     ]
    }
   ],
   "source": [
    "#Ingeniería de atributos: extración del año y mes de la columna date\n",
    "\n",
    "from pyspark.sql.functions import date_format\n",
    "\n",
    "dff = dff.withColumn(\"Year\",date_format(\"Date\",\"yyyy\")).withColumn(\"Month\",date_format(\"Date\",\"MM\"))\n",
    "\n",
    "dff.show(5)"
   ]
  },
  {
   "cell_type": "code",
   "execution_count": 32,
   "metadata": {},
   "outputs": [
    {
     "name": "stdout",
     "output_type": "stream",
     "text": [
      "+----+-----------------+\n",
      "|Year|sum(Weekly_Sales)|\n",
      "+----+-----------------+\n",
      "|2010|       2288885060|\n",
      "|2011|       2448198853|\n",
      "|2012|       2000131911|\n",
      "+----+-----------------+\n",
      "\n"
     ]
    }
   ],
   "source": [
    "#Ventas totales por año\n",
    "\n",
    "dff.groupBy('Year').sum('Weekly_Sales').orderBy('Year').show()"
   ]
  },
  {
   "cell_type": "code",
   "execution_count": 33,
   "metadata": {},
   "outputs": [
    {
     "name": "stdout",
     "output_type": "stream",
     "text": [
      "+-----+----------+------------+------------+-----------+----------+-----------+------------+----+-----+-------+----------+\n",
      "|Store|      Date|Weekly_Sales|Holiday_Flag|Temperature|Fuel_Price|        CPI|Unemployment|Year|Month|yearday|WeekOfYear|\n",
      "+-----+----------+------------+------------+-----------+----------+-----------+------------+----+-----+-------+----------+\n",
      "|    1|2010-02-05|     1643690|         0.0|      42.31|     2.572|211.0963582|       8.106|2010|   02|     36|         5|\n",
      "|    1|2010-02-12|     1641957|         1.0|      38.51|     2.548|211.2421698|       8.106|2010|   02|     43|         6|\n",
      "|    1|2010-02-19|     1611968|         0.0|      39.93|     2.514|211.2891429|       8.106|2010|   02|     50|         7|\n",
      "|    1|2010-02-26|     1409727|         0.0|      46.63|     2.561|211.3196429|       8.106|2010|   02|     57|         8|\n",
      "|    1|2010-03-05|     1554806|         0.0|       46.5|     2.625|211.3501429|       8.106|2010|   03|     64|         9|\n",
      "+-----+----------+------------+------------+-----------+----------+-----------+------------+----+-----+-------+----------+\n",
      "only showing top 5 rows\n",
      "\n"
     ]
    }
   ],
   "source": [
    "from pyspark.sql import functions as F\n",
    "\n",
    "dff = dff.withColumn(\"yearday\",F.dayofyear(F.col(\"Date\"))).withColumn('WeekOfYear',F.weekofyear(F.col('Date')))\n",
    "\n",
    "dff.show(5)"
   ]
  },
  {
   "cell_type": "code",
   "execution_count": 34,
   "metadata": {},
   "outputs": [
    {
     "name": "stdout",
     "output_type": "stream",
     "text": [
      "+----+-----+-----------------+\n",
      "|Year|Month|sum(Weekly_Sales)|\n",
      "+----+-----+-----------------+\n",
      "|2010|   02|        190332896|\n",
      "|2010|   03|        181919713|\n",
      "|2010|   04|        231412255|\n",
      "|2010|   05|        186710847|\n",
      "|2010|   06|        192246083|\n",
      "+----+-----+-----------------+\n",
      "only showing top 5 rows\n",
      "\n"
     ]
    }
   ],
   "source": [
    "dff.groupBy('Year', 'Month' ).sum('Weekly_Sales').orderBy('Year', 'Month').show(5)"
   ]
  },
  {
   "cell_type": "code",
   "execution_count": 36,
   "metadata": {},
   "outputs": [],
   "source": [
    "ventas_año = dff.groupBy('Year', 'Month').sum('Weekly_Sales').orderBy('Year', 'Month')\n",
    "\n",
    "ventas_año_pd = ventas_año.toPandas()"
   ]
  },
  {
   "cell_type": "code",
   "execution_count": 37,
   "metadata": {},
   "outputs": [
    {
     "data": {
      "text/html": [
       "<div>\n",
       "<style scoped>\n",
       "    .dataframe tbody tr th:only-of-type {\n",
       "        vertical-align: middle;\n",
       "    }\n",
       "\n",
       "    .dataframe tbody tr th {\n",
       "        vertical-align: top;\n",
       "    }\n",
       "\n",
       "    .dataframe thead th {\n",
       "        text-align: right;\n",
       "    }\n",
       "</style>\n",
       "<table border=\"1\" class=\"dataframe\">\n",
       "  <thead>\n",
       "    <tr style=\"text-align: right;\">\n",
       "      <th></th>\n",
       "      <th>Year</th>\n",
       "      <th>Month</th>\n",
       "      <th>sum(Weekly_Sales)</th>\n",
       "    </tr>\n",
       "  </thead>\n",
       "  <tbody>\n",
       "    <tr>\n",
       "      <th>0</th>\n",
       "      <td>2010</td>\n",
       "      <td>02</td>\n",
       "      <td>190332896</td>\n",
       "    </tr>\n",
       "    <tr>\n",
       "      <th>1</th>\n",
       "      <td>2010</td>\n",
       "      <td>03</td>\n",
       "      <td>181919713</td>\n",
       "    </tr>\n",
       "    <tr>\n",
       "      <th>2</th>\n",
       "      <td>2010</td>\n",
       "      <td>04</td>\n",
       "      <td>231412255</td>\n",
       "    </tr>\n",
       "    <tr>\n",
       "      <th>3</th>\n",
       "      <td>2010</td>\n",
       "      <td>05</td>\n",
       "      <td>186710847</td>\n",
       "    </tr>\n",
       "    <tr>\n",
       "      <th>4</th>\n",
       "      <td>2010</td>\n",
       "      <td>06</td>\n",
       "      <td>192246083</td>\n",
       "    </tr>\n",
       "    <tr>\n",
       "      <th>5</th>\n",
       "      <td>2010</td>\n",
       "      <td>07</td>\n",
       "      <td>232580013</td>\n",
       "    </tr>\n",
       "    <tr>\n",
       "      <th>6</th>\n",
       "      <td>2010</td>\n",
       "      <td>08</td>\n",
       "      <td>187640024</td>\n",
       "    </tr>\n",
       "    <tr>\n",
       "      <th>7</th>\n",
       "      <td>2010</td>\n",
       "      <td>09</td>\n",
       "      <td>177267805</td>\n",
       "    </tr>\n",
       "    <tr>\n",
       "      <th>8</th>\n",
       "      <td>2010</td>\n",
       "      <td>10</td>\n",
       "      <td>217161716</td>\n",
       "    </tr>\n",
       "    <tr>\n",
       "      <th>9</th>\n",
       "      <td>2010</td>\n",
       "      <td>11</td>\n",
       "      <td>202853279</td>\n",
       "    </tr>\n",
       "    <tr>\n",
       "      <th>10</th>\n",
       "      <td>2010</td>\n",
       "      <td>12</td>\n",
       "      <td>288760429</td>\n",
       "    </tr>\n",
       "    <tr>\n",
       "      <th>11</th>\n",
       "      <td>2011</td>\n",
       "      <td>01</td>\n",
       "      <td>163703877</td>\n",
       "    </tr>\n",
       "    <tr>\n",
       "      <th>12</th>\n",
       "      <td>2011</td>\n",
       "      <td>02</td>\n",
       "      <td>186331243</td>\n",
       "    </tr>\n",
       "    <tr>\n",
       "      <th>13</th>\n",
       "      <td>2011</td>\n",
       "      <td>03</td>\n",
       "      <td>179356365</td>\n",
       "    </tr>\n",
       "    <tr>\n",
       "      <th>14</th>\n",
       "      <td>2011</td>\n",
       "      <td>04</td>\n",
       "      <td>226526409</td>\n",
       "    </tr>\n",
       "    <tr>\n",
       "      <th>15</th>\n",
       "      <td>2011</td>\n",
       "      <td>05</td>\n",
       "      <td>181648066</td>\n",
       "    </tr>\n",
       "    <tr>\n",
       "      <th>16</th>\n",
       "      <td>2011</td>\n",
       "      <td>06</td>\n",
       "      <td>189773297</td>\n",
       "    </tr>\n",
       "    <tr>\n",
       "      <th>17</th>\n",
       "      <td>2011</td>\n",
       "      <td>07</td>\n",
       "      <td>229911289</td>\n",
       "    </tr>\n",
       "    <tr>\n",
       "      <th>18</th>\n",
       "      <td>2011</td>\n",
       "      <td>08</td>\n",
       "      <td>188599235</td>\n",
       "    </tr>\n",
       "    <tr>\n",
       "      <th>19</th>\n",
       "      <td>2011</td>\n",
       "      <td>09</td>\n",
       "      <td>220847619</td>\n",
       "    </tr>\n",
       "    <tr>\n",
       "      <th>20</th>\n",
       "      <td>2011</td>\n",
       "      <td>10</td>\n",
       "      <td>183261194</td>\n",
       "    </tr>\n",
       "    <tr>\n",
       "      <th>21</th>\n",
       "      <td>2011</td>\n",
       "      <td>11</td>\n",
       "      <td>210162267</td>\n",
       "    </tr>\n",
       "    <tr>\n",
       "      <th>22</th>\n",
       "      <td>2011</td>\n",
       "      <td>12</td>\n",
       "      <td>288077992</td>\n",
       "    </tr>\n",
       "    <tr>\n",
       "      <th>23</th>\n",
       "      <td>2012</td>\n",
       "      <td>01</td>\n",
       "      <td>168894384</td>\n",
       "    </tr>\n",
       "    <tr>\n",
       "      <th>24</th>\n",
       "      <td>2012</td>\n",
       "      <td>02</td>\n",
       "      <td>192063489</td>\n",
       "    </tr>\n",
       "    <tr>\n",
       "      <th>25</th>\n",
       "      <td>2012</td>\n",
       "      <td>03</td>\n",
       "      <td>231509541</td>\n",
       "    </tr>\n",
       "    <tr>\n",
       "      <th>26</th>\n",
       "      <td>2012</td>\n",
       "      <td>04</td>\n",
       "      <td>188920814</td>\n",
       "    </tr>\n",
       "    <tr>\n",
       "      <th>27</th>\n",
       "      <td>2012</td>\n",
       "      <td>05</td>\n",
       "      <td>188766397</td>\n",
       "    </tr>\n",
       "    <tr>\n",
       "      <th>28</th>\n",
       "      <td>2012</td>\n",
       "      <td>06</td>\n",
       "      <td>240610219</td>\n",
       "    </tr>\n",
       "    <tr>\n",
       "      <th>29</th>\n",
       "      <td>2012</td>\n",
       "      <td>07</td>\n",
       "      <td>187509366</td>\n",
       "    </tr>\n",
       "    <tr>\n",
       "      <th>30</th>\n",
       "      <td>2012</td>\n",
       "      <td>08</td>\n",
       "      <td>236850651</td>\n",
       "    </tr>\n",
       "    <tr>\n",
       "      <th>31</th>\n",
       "      <td>2012</td>\n",
       "      <td>09</td>\n",
       "      <td>180645457</td>\n",
       "    </tr>\n",
       "    <tr>\n",
       "      <th>32</th>\n",
       "      <td>2012</td>\n",
       "      <td>10</td>\n",
       "      <td>184361593</td>\n",
       "    </tr>\n",
       "  </tbody>\n",
       "</table>\n",
       "</div>"
      ],
      "text/plain": [
       "    Year Month  sum(Weekly_Sales)\n",
       "0   2010    02          190332896\n",
       "1   2010    03          181919713\n",
       "2   2010    04          231412255\n",
       "3   2010    05          186710847\n",
       "4   2010    06          192246083\n",
       "5   2010    07          232580013\n",
       "6   2010    08          187640024\n",
       "7   2010    09          177267805\n",
       "8   2010    10          217161716\n",
       "9   2010    11          202853279\n",
       "10  2010    12          288760429\n",
       "11  2011    01          163703877\n",
       "12  2011    02          186331243\n",
       "13  2011    03          179356365\n",
       "14  2011    04          226526409\n",
       "15  2011    05          181648066\n",
       "16  2011    06          189773297\n",
       "17  2011    07          229911289\n",
       "18  2011    08          188599235\n",
       "19  2011    09          220847619\n",
       "20  2011    10          183261194\n",
       "21  2011    11          210162267\n",
       "22  2011    12          288077992\n",
       "23  2012    01          168894384\n",
       "24  2012    02          192063489\n",
       "25  2012    03          231509541\n",
       "26  2012    04          188920814\n",
       "27  2012    05          188766397\n",
       "28  2012    06          240610219\n",
       "29  2012    07          187509366\n",
       "30  2012    08          236850651\n",
       "31  2012    09          180645457\n",
       "32  2012    10          184361593"
      ]
     },
     "execution_count": 37,
     "metadata": {},
     "output_type": "execute_result"
    }
   ],
   "source": [
    "ventas_año_pd"
   ]
  },
  {
   "cell_type": "code",
   "execution_count": 38,
   "metadata": {},
   "outputs": [
    {
     "data": {
      "text/plain": [
       "<matplotlib.axes._subplots.AxesSubplot at 0x7f17db97f470>"
      ]
     },
     "execution_count": 38,
     "metadata": {},
     "output_type": "execute_result"
    },
    {
     "data": {
      "image/png": "[encoded data removed]",
      "text/plain": [
       "<Figure size 1440x432 with 1 Axes>"
      ]
     },
     "metadata": {
      "needs_background": "light"
     },
     "output_type": "display_data"
    }
   ],
   "source": [
    "ventas_año_pd.plot.bar(x='Month', y='sum(Weekly_Sales)', color ='green', figsize=(20,6) )"
   ]
  },
  {
   "cell_type": "code",
   "execution_count": 40,
   "metadata": {},
   "outputs": [],
   "source": [
    "spark.stop()"
   ]
  },
  {
   "cell_type": "code",
   "execution_count": null,
   "metadata": {},
   "outputs": [],
   "source": []
  }
 ],
 "metadata": {
  "kernelspec": {
   "display_name": "Python 3",
   "language": "python",
   "name": "python3"
  },
  "language_info": {
   "codemirror_mode": {
    "name": "ipython",
    "version": 3
   },
   "file_extension": ".py",
   "mimetype": "text/x-python",
   "name": "python",
   "nbconvert_exporter": "python",
   "pygments_lexer": "ipython3",
   "version": "3.7.3"
  }
 },
 "nbformat": 4,
 "nbformat_minor": 4
}
